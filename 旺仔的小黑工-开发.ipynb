{
 "cells": [
  {
   "cell_type": "code",
   "execution_count": 1,
   "metadata": {},
   "outputs": [],
   "source": [
    "import pandas as pd\n",
    "import numpy as np\n",
    "import chardet\n",
    "import codecs\n"
   ]
  },
  {
   "cell_type": "code",
   "execution_count": 2,
   "metadata": {
    "scrolled": true
   },
   "outputs": [
    {
     "name": "stderr",
     "output_type": "stream",
     "text": [
      "D:\\Program\\Anaconda3\\lib\\site-packages\\IPython\\core\\interactiveshell.py:3057: DtypeWarning: Columns (0) have mixed types. Specify dtype option on import or set low_memory=False.\n",
      "  interactivity=interactivity, compiler=compiler, result=result)\n"
     ]
    }
   ],
   "source": [
    "inputfile = 'D:\\web download\\基因分析\\耳聋突变数据库_v8.2.2018-11-13\\DVD_v8.2.2018-11-13.tsv'\n",
    "df = pd.DataFrame(pd.read_csv(inputfile, sep='\\t'))"
   ]
  },
  {
   "cell_type": "code",
   "execution_count": 3,
   "metadata": {},
   "outputs": [],
   "source": [
    "df[\"key\"] =\"chr\"+df[\"CHROM\"].map(str)+df[\"POS\"].map(str)"
   ]
  },
  {
   "cell_type": "code",
   "execution_count": 4,
   "metadata": {},
   "outputs": [],
   "source": [
    "dfexcel=pd.DataFrame(pd.read_excel('D:\\web download\\基因分析\\数据-内部保密\\测试文件.xlsx'))\n"
   ]
  },
  {
   "cell_type": "code",
   "execution_count": 5,
   "metadata": {},
   "outputs": [],
   "source": [
    "dfexcel[\"key\"] = dfexcel[\"#Chrom\"].map(str)+dfexcel[\"Pos\"].map(str)"
   ]
  },
  {
   "cell_type": "code",
   "execution_count": 6,
   "metadata": {},
   "outputs": [],
   "source": [
    "#print(dfexcel.head(2))\n",
    "dfnew = pd.merge(dfexcel,df,on='key',how='left')\n"
   ]
  },
  {
   "cell_type": "code",
   "execution_count": 7,
   "metadata": {},
   "outputs": [
    {
     "name": "stdout",
     "output_type": "stream",
     "text": [
      "  #Chrom        Pos Ref Alts Alt A1     F_A      F_U A2  CHISQ  ...  \\\n",
      "0   chr4  100356466   A    G   G  G  0.3235  0.03846  A  30.48  ...   \n",
      "1   chr4  100575714   C    T   T  T  0.2647  0.02198  C  29.84  ...   \n",
      "\n",
      "             key CHROM POS  REF  ALT variation gene pathogenicity disease  \\\n",
      "0  chr4100356466   NaN NaN  NaN  NaN       NaN  NaN           NaN     NaN   \n",
      "1  chr4100575714   NaN NaN  NaN  NaN       NaN  NaN           NaN     NaN   \n",
      "\n",
      "  pubmed  \n",
      "0    NaN  \n",
      "1    NaN  \n",
      "\n",
      "[2 rows x 169 columns]\n"
     ]
    }
   ],
   "source": [
    "print(dfnew.head(2))"
   ]
  },
  {
   "cell_type": "code",
   "execution_count": 8,
   "metadata": {},
   "outputs": [],
   "source": [
    "dfnew.to_excel(\"D:/web download/基因分析/test5.xlsx\", encoding='utf-8', index=False, header=True)"
   ]
  },
  {
   "cell_type": "code",
   "execution_count": null,
   "metadata": {},
   "outputs": [],
   "source": []
  }
 ],
 "metadata": {
  "kernelspec": {
   "display_name": "Python 3",
   "language": "python",
   "name": "python3"
  },
  "language_info": {
   "codemirror_mode": {
    "name": "ipython",
    "version": 3
   },
   "file_extension": ".py",
   "mimetype": "text/x-python",
   "name": "python",
   "nbconvert_exporter": "python",
   "pygments_lexer": "ipython3",
   "version": "3.7.3"
  }
 },
 "nbformat": 4,
 "nbformat_minor": 2
}
