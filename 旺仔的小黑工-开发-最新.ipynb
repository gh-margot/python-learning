{
 "cells": [
  {
   "cell_type": "code",
   "execution_count": 7,
   "metadata": {},
   "outputs": [],
   "source": [
    "import pandas as pd\n",
    "import numpy as np\n",
    "import chardet\n",
    "import codecs\n",
    "from tkinter import *\n",
    "from tkinter import ttk\n",
    "from tkinter import filedialog\n",
    "import tkinter.messagebox\n",
    "import sys,os"
   ]
  },
  {
   "cell_type": "code",
   "execution_count": 8,
   "metadata": {},
   "outputs": [],
   "source": [
    "def selectPath1():\n",
    "    path_ =filedialog.askopenfilename()\n",
    "    path1.set(path_)\n",
    "def selectPath2():\n",
    "    path_ =filedialog.askopenfilename()\n",
    "    path2.set(path_)\n",
    "    \n",
    "def run():\n",
    "    fp = os.getcwd()\n",
    "    fn = filename.get()\n",
    "    inputfile=path2.get()\n",
    "    df = pd.DataFrame(pd.read_csv(inputfile, sep='\\t'))\n",
    "    df[\"key\"] =\"chr\"+df[\"CHROM\"].map(str)+df[\"POS\"].map(str)\n",
    "\n",
    "    inputexcel = path1.get()\n",
    "    dfexcel=pd.DataFrame(pd.read_excel(inputexcel))\n",
    "    dfexcel[\"key\"] = dfexcel[\"#Chrom\"].map(str)+dfexcel[\"Pos\"].map(str)\n",
    "    dfnew = pd.merge(dfexcel,df,on='key',how='left')\n",
    "    del dfnew[\"key\"]\n",
    "    outpath = fp + \"\\\\\" + fn + \".xlsx\"\n",
    "    dfnew.to_excel(outpath, encoding='utf-8', index=False, header=True)\n",
    "    print(\"over!\")\n",
    "    \n",
    "    \n",
    "root = Tk()\n",
    "root.title(\"基因数据更新\")\n",
    "root.geometry('500x300')\n",
    "\n",
    "path1=StringVar()\n",
    "path2=StringVar()\n",
    "filename=StringVar()\n",
    "\n",
    "#创建【path】标签，并在窗口上显示\n",
    "\n",
    "L1 = Label(root,text=\"Excel\").grid(row = 0,column = 0)\n",
    "E1 = ttk.Entry(root,textvariable=path1,font = \"Helvetica 10\").grid(row = 0,column = 1)\n",
    "B1 = ttk.Button(root,text=\"选择路径\",command = selectPath1).grid(row = 0,column = 2)\n",
    "\n",
    "L2 = Label(root,text=\"Tsv\").grid(row = 1,column = 0)\n",
    "E2 = ttk.Entry(root,textvariable=path2,font = \"Helvetica 10\").grid(row = 1,column = 1)\n",
    "B2 = ttk.Button(root,text=\"选择路径\",command = selectPath2).grid(row = 1,column = 2)\n",
    "\n",
    "L2 = Label(root,text=\"OutputFile\").grid(row = 2,column = 0)\n",
    "E2 = ttk.Entry(root,textvariable=filename,font = \"Helvetica 10\").grid(row = 2,column = 1)\n",
    "\n",
    "B3 = ttk.Button(root,text = \"确认\",command = run).grid(row =3,column =1)\n",
    "\n",
    "#tkinter.messagebox.showinfo(title='程序运行', message= outpath + '已作成！') \n",
    "\n",
    "root.mainloop()"
   ]
  },
  {
   "cell_type": "code",
   "execution_count": 3,
   "metadata": {},
   "outputs": [],
   "source": []
  },
  {
   "cell_type": "code",
   "execution_count": 18,
   "metadata": {},
   "outputs": [],
   "source": []
  },
  {
   "cell_type": "code",
   "execution_count": null,
   "metadata": {},
   "outputs": [],
   "source": []
  }
 ],
 "metadata": {
  "kernelspec": {
   "display_name": "Python 3",
   "language": "python",
   "name": "python3"
  },
  "language_info": {
   "codemirror_mode": {
    "name": "ipython",
    "version": 3
   },
   "file_extension": ".py",
   "mimetype": "text/x-python",
   "name": "python",
   "nbconvert_exporter": "python",
   "pygments_lexer": "ipython3",
   "version": "3.7.3"
  }
 },
 "nbformat": 4,
 "nbformat_minor": 2
}
