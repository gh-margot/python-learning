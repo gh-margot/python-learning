{
 "cells": [
  {
   "cell_type": "code",
   "execution_count": 2,
   "metadata": {},
   "outputs": [],
   "source": [
    "import pandas as pd\n",
    "import chardet\n",
    "import codecs"
   ]
  },
  {
   "cell_type": "code",
   "execution_count": 5,
   "metadata": {},
   "outputs": [],
   "source": [
    "inputfile = open('D:\\\\python练习\\\\练习1\\\\3月凡客\\\\20882313465494780156_201903_账务明细_1.csv','rb')\n",
    "path='D:\\\\python练习\\\\练习1\\\\3月凡客\\\\utf.csv'\n",
    "data1 = inputfile.read()\n",
    "data2 = data1.decode('GB2312',errors = 'ignore')\n",
    "f2 = codecs.open(path,'w','UTF-8')\n",
    "f2.write(data2)\n",
    "f2.close()\n",
    "#print(chardet.detect(data)) \n"
   ]
  },
  {
   "cell_type": "code",
   "execution_count": 6,
   "metadata": {},
   "outputs": [],
   "source": [
    "data_frame = pd.read_csv(path,header=None,skiprows=4)\n"
   ]
  },
  {
   "cell_type": "code",
   "execution_count": null,
   "metadata": {},
   "outputs": [],
   "source": [
    "im"
   ]
  }
 ],
 "metadata": {
  "kernelspec": {
   "display_name": "Python 3",
   "language": "python",
   "name": "python3"
  },
  "language_info": {
   "codemirror_mode": {
    "name": "ipython",
    "version": 3
   },
   "file_extension": ".py",
   "mimetype": "text/x-python",
   "name": "python",
   "nbconvert_exporter": "python",
   "pygments_lexer": "ipython3",
   "version": "3.7.3"
  }
 },
 "nbformat": 4,
 "nbformat_minor": 2
}
